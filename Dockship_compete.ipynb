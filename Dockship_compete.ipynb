{
  "nbformat": 4,
  "nbformat_minor": 0,
  "metadata": {
    "colab": {
      "name": "Dockship_compete.ipynb",
      "private_outputs": true,
      "provenance": [],
      "collapsed_sections": [],
      "mount_file_id": "1JpQv51I9K7YStIBwt8vFwjuLS7qIBWvA",
      "authorship_tag": "ABX9TyM7OlD9xVL+vWpCc/kmPIjP",
      "include_colab_link": true
    },
    "kernelspec": {
      "name": "python3",
      "display_name": "Python 3"
    },
    "language_info": {
      "name": "python"
    }
  },
  "cells": [
    {
      "cell_type": "markdown",
      "metadata": {
        "id": "view-in-github",
        "colab_type": "text"
      },
      "source": [
        "<a href=\"https://colab.research.google.com/github/7330717512/Dockship_compete_predict_Sales/blob/main/Dockship_compete.ipynb\" target=\"_parent\"><img src=\"https://colab.research.google.com/assets/colab-badge.svg\" alt=\"Open In Colab\"/></a>"
      ]
    },
    {
      "cell_type": "code",
      "metadata": {
        "id": "h1YnTF2xZ0RP"
      },
      "source": [
        "import os\n",
        "os.environ['KAGGLE_CONFIG_DIR'] = '/content/drive/MyDrive/Kaggle'"
      ],
      "execution_count": null,
      "outputs": []
    },
    {
      "cell_type": "code",
      "metadata": {
        "id": "aqkU9a38mgS5"
      },
      "source": [
        "%cd /content/drive/MyDrive/Kaggle"
      ],
      "execution_count": null,
      "outputs": []
    },
    {
      "cell_type": "code",
      "metadata": {
        "id": "yUyZYoTmmgOa"
      },
      "source": [
        "!unzip \\*.zip && rm *.zip"
      ],
      "execution_count": null,
      "outputs": []
    },
    {
      "cell_type": "code",
      "metadata": {
        "id": "ybcAYH3Emyu0"
      },
      "source": [
        "import pandas as pd\n",
        "train_df = pd.read_csv('/content/drive/MyDrive/Kaggle/dataset/TRAIN.csv')\n",
        "test_df = pd.read_csv('/content/drive/MyDrive/Kaggle/dataset/TEST.csv')\n",
        "store = pd.read_csv('/content/drive/MyDrive/Kaggle/dataset/store.csv')"
      ],
      "execution_count": null,
      "outputs": []
    },
    {
      "cell_type": "code",
      "metadata": {
        "id": "HAyoIYjGmyrp"
      },
      "source": [
        "train_df.head()"
      ],
      "execution_count": null,
      "outputs": []
    },
    {
      "cell_type": "code",
      "metadata": {
        "id": "hVj03gkpmynt"
      },
      "source": [
        "test_df.head()"
      ],
      "execution_count": null,
      "outputs": []
    },
    {
      "cell_type": "code",
      "metadata": {
        "id": "9grry665ntLD"
      },
      "source": [
        "store.head()"
      ],
      "execution_count": null,
      "outputs": []
    },
    {
      "cell_type": "code",
      "metadata": {
        "id": "0zdanZ9Wv8lC"
      },
      "source": [
        "store.tail()"
      ],
      "execution_count": null,
      "outputs": []
    },
    {
      "cell_type": "code",
      "metadata": {
        "id": "2AiceZ1FoV9V"
      },
      "source": [
        "train_df.shape, test_df.shape, store.shape"
      ],
      "execution_count": null,
      "outputs": []
    },
    {
      "cell_type": "code",
      "metadata": {
        "id": "RMD7h6HXoV51"
      },
      "source": [
        "train_df.info()"
      ],
      "execution_count": null,
      "outputs": []
    },
    {
      "cell_type": "code",
      "metadata": {
        "id": "edIp16DmoV3J"
      },
      "source": [
        "test_df.info()"
      ],
      "execution_count": null,
      "outputs": []
    },
    {
      "cell_type": "code",
      "metadata": {
        "id": "jc6ppQyWoV0L"
      },
      "source": [
        "train_df.nunique()"
      ],
      "execution_count": null,
      "outputs": []
    },
    {
      "cell_type": "code",
      "metadata": {
        "id": "aS3vHRCZoVxZ"
      },
      "source": [
        "test_df.nunique()"
      ],
      "execution_count": null,
      "outputs": []
    },
    {
      "cell_type": "code",
      "metadata": {
        "id": "DYkuOa51oVr5"
      },
      "source": [
        "train_df.Store.unique().tolist()"
      ],
      "execution_count": null,
      "outputs": []
    },
    {
      "cell_type": "code",
      "metadata": {
        "id": "IrnUf1Usm_W4"
      },
      "source": [
        "train_df.iloc[1115::,:]"
      ],
      "execution_count": null,
      "outputs": []
    },
    {
      "cell_type": "code",
      "metadata": {
        "id": "sSI2nMXXovwv"
      },
      "source": [
        "train = pd.merge(train_df,store,on=\"Store\")\n",
        "test = pd.merge(test_df,store,on=\"Store\")"
      ],
      "execution_count": null,
      "outputs": []
    },
    {
      "cell_type": "code",
      "metadata": {
        "id": "CdtvyMt6ovuQ"
      },
      "source": [
        "train.head()"
      ],
      "execution_count": null,
      "outputs": []
    },
    {
      "cell_type": "code",
      "metadata": {
        "id": "MKO-_AUkATQc"
      },
      "source": [
        ""
      ],
      "execution_count": null,
      "outputs": []
    },
    {
      "cell_type": "code",
      "metadata": {
        "id": "ulHWqD_kovrP"
      },
      "source": [
        "test.head()"
      ],
      "execution_count": null,
      "outputs": []
    },
    {
      "cell_type": "code",
      "metadata": {
        "id": "SgH6MjLBovnC"
      },
      "source": [
        "train.shape, test.shape"
      ],
      "execution_count": null,
      "outputs": []
    },
    {
      "cell_type": "code",
      "metadata": {
        "id": "dpMFiXQCAU54"
      },
      "source": [
        ""
      ],
      "execution_count": null,
      "outputs": []
    },
    {
      "cell_type": "code",
      "metadata": {
        "id": "U0CBWDAkoviZ"
      },
      "source": [
        "train.isnull().sum()"
      ],
      "execution_count": null,
      "outputs": []
    },
    {
      "cell_type": "code",
      "metadata": {
        "id": "qmTkROOAAW58"
      },
      "source": [
        "test.isnull().sum()"
      ],
      "execution_count": null,
      "outputs": []
    },
    {
      "cell_type": "code",
      "metadata": {
        "id": "eJ_nfZ5FovfZ"
      },
      "source": [
        "train.drop(['CompetitionOpenSinceMonth','CompetitionOpenSinceYear','Promo2SinceWeek','Promo2SinceYear','PromoInterval'],inplace=True,axis=1)"
      ],
      "execution_count": null,
      "outputs": []
    },
    {
      "cell_type": "code",
      "metadata": {
        "id": "GegyVtp6B-kg"
      },
      "source": [
        "test.drop(['CompetitionOpenSinceMonth','CompetitionOpenSinceYear','Promo2SinceWeek','Promo2SinceYear','PromoInterval'],inplace=True,axis=1)"
      ],
      "execution_count": null,
      "outputs": []
    },
    {
      "cell_type": "code",
      "metadata": {
        "id": "j_eJ-44ZovcL"
      },
      "source": [
        "train.shape"
      ],
      "execution_count": null,
      "outputs": []
    },
    {
      "cell_type": "code",
      "metadata": {
        "id": "I53eZL5nCEfP"
      },
      "source": [
        "test.shape"
      ],
      "execution_count": null,
      "outputs": []
    },
    {
      "cell_type": "code",
      "metadata": {
        "id": "vQf5FtTuovZi"
      },
      "source": [
        "train.info()"
      ],
      "execution_count": null,
      "outputs": []
    },
    {
      "cell_type": "code",
      "metadata": {
        "id": "KxUU4-zMou-H"
      },
      "source": [
        "import numpy as np\n",
        "import matplotlib.pyplot as plt\n",
        "import seaborn as sns"
      ],
      "execution_count": null,
      "outputs": []
    },
    {
      "cell_type": "code",
      "metadata": {
        "id": "xV0nKWtA-_nE"
      },
      "source": [
        "plt.hist(train['CompetitionDistance'])"
      ],
      "execution_count": null,
      "outputs": []
    },
    {
      "cell_type": "code",
      "metadata": {
        "id": "tanaPEXp-_jW"
      },
      "source": [
        "sns.boxplot(train['CompetitionDistance'])"
      ],
      "execution_count": null,
      "outputs": []
    },
    {
      "cell_type": "code",
      "metadata": {
        "id": "6wiEgQjg-_gb"
      },
      "source": [
        "train['CompetitionDistance'].fillna(train['CompetitionDistance'].mean(), inplace=True)"
      ],
      "execution_count": null,
      "outputs": []
    },
    {
      "cell_type": "code",
      "metadata": {
        "id": "6ugjH775CKTF"
      },
      "source": [
        "test['CompetitionDistance'].fillna(test['CompetitionDistance'].mean(), inplace=True)"
      ],
      "execution_count": null,
      "outputs": []
    },
    {
      "cell_type": "code",
      "metadata": {
        "id": "Lc6BIizm_5Kz"
      },
      "source": [
        "sns.boxplot(train['CompetitionDistance'])"
      ],
      "execution_count": null,
      "outputs": []
    },
    {
      "cell_type": "code",
      "metadata": {
        "id": "YfVkhdqvCSuG"
      },
      "source": [
        "train.columns"
      ],
      "execution_count": null,
      "outputs": []
    },
    {
      "cell_type": "code",
      "metadata": {
        "id": "RCDSp9EtDfSS"
      },
      "source": [
        "train.head()"
      ],
      "execution_count": null,
      "outputs": []
    },
    {
      "cell_type": "code",
      "metadata": {
        "id": "LMRb7FpUD6Hy"
      },
      "source": [
        "import datetime"
      ],
      "execution_count": null,
      "outputs": []
    },
    {
      "cell_type": "code",
      "metadata": {
        "id": "XUOYcr2sELdm"
      },
      "source": [
        "train['Date'] = pd.to_datetime(train['Date'])"
      ],
      "execution_count": null,
      "outputs": []
    },
    {
      "cell_type": "code",
      "metadata": {
        "id": "jJTa1wXWEeCl"
      },
      "source": [
        "train.info()"
      ],
      "execution_count": null,
      "outputs": []
    },
    {
      "cell_type": "code",
      "metadata": {
        "id": "Y_Y0vazAEhhG"
      },
      "source": [
        "train[\"Day\"] = pd.to_datetime(train.Date, format=\"%Y-%m-%d\").dt.day\n",
        "train[\"Month\"] = pd.to_datetime(train.Date, format=\"%Y-%m-%d\").dt.month\n",
        "train[\"Year\"] = pd.to_datetime(train.Date, format=\"%Y-%m-%d\").dt.year"
      ],
      "execution_count": null,
      "outputs": []
    },
    {
      "cell_type": "code",
      "metadata": {
        "id": "F2lC4i_XFSo8"
      },
      "source": [
        "train.drop([\"Date\"], axis = 1, inplace = True)"
      ],
      "execution_count": null,
      "outputs": []
    },
    {
      "cell_type": "code",
      "metadata": {
        "id": "ubftu__5Fftp"
      },
      "source": [
        "train.head()"
      ],
      "execution_count": null,
      "outputs": []
    },
    {
      "cell_type": "code",
      "metadata": {
        "id": "KqseyQC8Fjga"
      },
      "source": [
        "plt.figure(figsize=(10,8))\n",
        "sns.heatmap(data=train.corr(),annot=True)"
      ],
      "execution_count": null,
      "outputs": []
    },
    {
      "cell_type": "code",
      "metadata": {
        "id": "tcsklBYtF7_7"
      },
      "source": [
        "train.info()"
      ],
      "execution_count": null,
      "outputs": []
    },
    {
      "cell_type": "code",
      "metadata": {
        "id": "8fzatefGGAcv"
      },
      "source": [
        "train['DayOfWeek'].value_counts()"
      ],
      "execution_count": null,
      "outputs": []
    },
    {
      "cell_type": "code",
      "metadata": {
        "id": "tgimy5OvGKMt"
      },
      "source": [
        "train['Customers'].value_counts()"
      ],
      "execution_count": null,
      "outputs": []
    },
    {
      "cell_type": "code",
      "metadata": {
        "id": "zIGrfScnGU44"
      },
      "source": [
        "train['Open'].value_counts()"
      ],
      "execution_count": null,
      "outputs": []
    },
    {
      "cell_type": "code",
      "metadata": {
        "id": "k8KMgR86Gekb"
      },
      "source": [
        "train['Promo'].value_counts()"
      ],
      "execution_count": null,
      "outputs": []
    },
    {
      "cell_type": "code",
      "metadata": {
        "id": "27m_ZUaWHohN"
      },
      "source": [
        "train['StateHoliday'].value_counts()"
      ],
      "execution_count": null,
      "outputs": []
    },
    {
      "cell_type": "code",
      "metadata": {
        "id": "dp54iTk-vvhJ"
      },
      "source": [
        "train[train['StateHoliday'] == 0]"
      ],
      "execution_count": null,
      "outputs": []
    },
    {
      "cell_type": "code",
      "metadata": {
        "id": "Lc-HedtzvATi"
      },
      "source": [
        "train[train['StateHoliday'] == '0']"
      ],
      "execution_count": null,
      "outputs": []
    },
    {
      "cell_type": "code",
      "metadata": {
        "id": "0Fy4nuL5uGcV"
      },
      "source": [
        "train['StateHoliday'].replace(0,\"0\",inplace=True)"
      ],
      "execution_count": null,
      "outputs": []
    },
    {
      "cell_type": "code",
      "metadata": {
        "id": "WxqQa7Fsuiyh"
      },
      "source": [
        "train['StateHoliday'].value_counts()"
      ],
      "execution_count": null,
      "outputs": []
    },
    {
      "cell_type": "code",
      "metadata": {
        "id": "HW6ZK18_H795"
      },
      "source": [
        "train['StoreType'].value_counts()"
      ],
      "execution_count": null,
      "outputs": []
    },
    {
      "cell_type": "code",
      "metadata": {
        "id": "MsKyqDaUIPhQ"
      },
      "source": [
        "train['Assortment'].value_counts()"
      ],
      "execution_count": null,
      "outputs": []
    },
    {
      "cell_type": "code",
      "metadata": {
        "id": "V2TKBdrNIZvO"
      },
      "source": [
        "train['CompetitionDistance'].value_counts()"
      ],
      "execution_count": null,
      "outputs": []
    },
    {
      "cell_type": "code",
      "metadata": {
        "id": "djwAc9E-Iw6d"
      },
      "source": [
        "train['Promo2'].value_counts()"
      ],
      "execution_count": null,
      "outputs": []
    },
    {
      "cell_type": "code",
      "metadata": {
        "id": "FXXgHufGI6y-"
      },
      "source": [
        "train['Day'].value_counts()"
      ],
      "execution_count": null,
      "outputs": []
    },
    {
      "cell_type": "code",
      "metadata": {
        "id": "PpFhncLjI6wo"
      },
      "source": [
        "train['Month'].value_counts()"
      ],
      "execution_count": null,
      "outputs": []
    },
    {
      "cell_type": "code",
      "metadata": {
        "id": "x3YFkTM8I6uR"
      },
      "source": [
        "train['Year'].value_counts()"
      ],
      "execution_count": null,
      "outputs": []
    },
    {
      "cell_type": "code",
      "metadata": {
        "id": "E5vDoFOZI6pJ"
      },
      "source": [
        "train.info()"
      ],
      "execution_count": null,
      "outputs": []
    },
    {
      "cell_type": "code",
      "metadata": {
        "id": "_gkBuHXfI6ks"
      },
      "source": [
        "!pip install autoviz"
      ],
      "execution_count": null,
      "outputs": []
    },
    {
      "cell_type": "code",
      "metadata": {
        "id": "kA9ngWsSCi6q"
      },
      "source": [
        "from autoviz.AutoViz_Class import AutoViz_Class\n",
        "AV = AutoViz_Class()"
      ],
      "execution_count": null,
      "outputs": []
    },
    {
      "cell_type": "code",
      "metadata": {
        "id": "sMbdv7WjDrxn"
      },
      "source": [
        "train.to_csv('train.csv')"
      ],
      "execution_count": null,
      "outputs": []
    },
    {
      "cell_type": "code",
      "metadata": {
        "id": "CJ4lD1DDC_rn"
      },
      "source": [
        "dft = AV.AutoViz(filename=\"train.csv\",sep=\",\",depVar=\"\",dfte=None,header=0,verbose=0,lowess=False,chart_format=\"svg\",max_rows_analyzed=800000,max_cols_analyzed=30)"
      ],
      "execution_count": null,
      "outputs": []
    },
    {
      "cell_type": "code",
      "metadata": {
        "id": "VujePqK6Ci0W"
      },
      "source": [
        "train.head()"
      ],
      "execution_count": null,
      "outputs": []
    },
    {
      "cell_type": "code",
      "metadata": {
        "id": "vpUkGStkCixo"
      },
      "source": [
        "train.drop('Customers',axis=1,inplace=True)#highly correlated"
      ],
      "execution_count": null,
      "outputs": []
    },
    {
      "cell_type": "code",
      "metadata": {
        "id": "sqXSI6aqCiuz"
      },
      "source": [
        "train.head()"
      ],
      "execution_count": null,
      "outputs": []
    },
    {
      "cell_type": "code",
      "metadata": {
        "id": "T8JLoahMCisy"
      },
      "source": [
        "train.describe()"
      ],
      "execution_count": null,
      "outputs": []
    },
    {
      "cell_type": "code",
      "metadata": {
        "id": "MbRc42eNCip7"
      },
      "source": [
        "train = pd.get_dummies(data = train,columns=['StateHoliday','StoreType','Assortment'],drop_first=True)"
      ],
      "execution_count": null,
      "outputs": []
    },
    {
      "cell_type": "code",
      "metadata": {
        "id": "kG75LTqAG63D"
      },
      "source": [
        "train.head()"
      ],
      "execution_count": null,
      "outputs": []
    },
    {
      "cell_type": "code",
      "metadata": {
        "id": "cZNTm0JEG6ym"
      },
      "source": [
        "X = train.drop([\"Sales\",\"StateHoliday_c\"],axis=1)\n",
        "y=train[[\"Sales\"]]"
      ],
      "execution_count": null,
      "outputs": []
    },
    {
      "cell_type": "code",
      "metadata": {
        "id": "bV9gVGgdbnSP"
      },
      "source": [
        "X.head()"
      ],
      "execution_count": null,
      "outputs": []
    },
    {
      "cell_type": "code",
      "metadata": {
        "id": "Huw8OtSOG6vC"
      },
      "source": [
        "from sklearn.preprocessing import StandardScaler\n",
        "scaler = StandardScaler()"
      ],
      "execution_count": null,
      "outputs": []
    },
    {
      "cell_type": "code",
      "metadata": {
        "id": "gJexxrISG6sF"
      },
      "source": [
        "scale_X = scaler.fit_transform(X)"
      ],
      "execution_count": null,
      "outputs": []
    },
    {
      "cell_type": "code",
      "metadata": {
        "id": "7ZMiRsoUG6ow"
      },
      "source": [
        "from sklearn.model_selection import train_test_split\n",
        "X_train,X_test,y_train,y_test = train_test_split(scale_X,y,test_size=0.3,random_state=42)"
      ],
      "execution_count": null,
      "outputs": []
    },
    {
      "cell_type": "code",
      "metadata": {
        "id": "Ig_MCrhGCig6"
      },
      "source": [
        "X_train.shape, X_test.shape, y_train.shape, y_test.shape"
      ],
      "execution_count": null,
      "outputs": []
    },
    {
      "cell_type": "code",
      "metadata": {
        "id": "1OcYRVTwaJHg"
      },
      "source": [
        ""
      ],
      "execution_count": null,
      "outputs": []
    },
    {
      "cell_type": "code",
      "metadata": {
        "id": "ochTOgGhM_3u"
      },
      "source": [
        "from sklearn.linear_model import LinearRegression\n",
        "lin_reg = LinearRegression()"
      ],
      "execution_count": null,
      "outputs": []
    },
    {
      "cell_type": "code",
      "metadata": {
        "id": "ZjvXqp4GOb2T"
      },
      "source": [
        "lin_reg.fit(X_train,y_train)"
      ],
      "execution_count": null,
      "outputs": []
    },
    {
      "cell_type": "code",
      "metadata": {
        "id": "6lkLVZ0kOjXi"
      },
      "source": [
        "lin_reg.score(X_train,y_train)"
      ],
      "execution_count": null,
      "outputs": []
    },
    {
      "cell_type": "code",
      "metadata": {
        "id": "mtzMJUzxOwNt"
      },
      "source": [
        "lin_reg.score(X_test,y_test)"
      ],
      "execution_count": null,
      "outputs": []
    },
    {
      "cell_type": "code",
      "metadata": {
        "id": "p2xHQN-aO199"
      },
      "source": [
        "from sklearn.ensemble import RandomForestRegressor\n",
        "Rfr = RandomForestRegressor(n_estimators=500,criterion='mae',max_depth=5,max_leaf_nodes=2)"
      ],
      "execution_count": null,
      "outputs": []
    },
    {
      "cell_type": "code",
      "metadata": {
        "id": "iGAIcYQ3PUKg"
      },
      "source": [
        "# Rfr.fit(X_train,y_train)"
      ],
      "execution_count": null,
      "outputs": []
    },
    {
      "cell_type": "code",
      "metadata": {
        "id": "9FHEBi3z4Iw-"
      },
      "source": [
        "from sklearn.ensemble import AdaBoostRegressor"
      ],
      "execution_count": null,
      "outputs": []
    },
    {
      "cell_type": "code",
      "metadata": {
        "id": "0OoYUL134IuG"
      },
      "source": [
        "# Ada_reg = AdaBoostRegressor(RandomForestRegressor(max_depth=1,\n",
        "                                #                       max_features=4,\n",
        "                                #                       min_samples_leaf=20),\n",
        "                                # n_estimators=200)"
      ],
      "execution_count": null,
      "outputs": []
    },
    {
      "cell_type": "code",
      "metadata": {
        "id": "V_W-D6h24Iqm"
      },
      "source": [
        "# Ada_reg.fit(X_train,y_train)"
      ],
      "execution_count": null,
      "outputs": []
    },
    {
      "cell_type": "code",
      "metadata": {
        "id": "1KEybEAq4Ink"
      },
      "source": [
        "# Ada_reg.score(X_train,y_train)"
      ],
      "execution_count": null,
      "outputs": []
    },
    {
      "cell_type": "code",
      "metadata": {
        "id": "lE0yw7hU4Ikh"
      },
      "source": [
        "# Ada_reg.score(X_test,y_test)"
      ],
      "execution_count": null,
      "outputs": []
    },
    {
      "cell_type": "code",
      "metadata": {
        "id": "1970dL0F4IhU"
      },
      "source": [
        "# Ada_y_pred = Ada_reg.predict(X_test)"
      ],
      "execution_count": null,
      "outputs": []
    },
    {
      "cell_type": "code",
      "metadata": {
        "id": "yAuIPz_t4Idu"
      },
      "source": [
        "# from sklearn import metrics\n",
        "# print('MAE:', metrics.mean_absolute_error(y_test, Ada_y_pred))\n",
        "# print('MSE:', metrics.mean_squared_error(y_test, Ada_y_pred))\n",
        "# print('RMSE:', np.sqrt(metrics.mean_squared_error(y_test, Ada_y_pred)))"
      ],
      "execution_count": null,
      "outputs": []
    },
    {
      "cell_type": "code",
      "metadata": {
        "id": "gu34KxQz4IXc"
      },
      "source": [
        ""
      ],
      "execution_count": null,
      "outputs": []
    },
    {
      "cell_type": "code",
      "metadata": {
        "id": "cV2JTlQtPhD1"
      },
      "source": [
        "# Rfr.score(X_train,y_train)"
      ],
      "execution_count": null,
      "outputs": []
    },
    {
      "cell_type": "code",
      "metadata": {
        "id": "BXMfQYlRPg0O"
      },
      "source": [
        "# Rfr.score(X_test,y_test)"
      ],
      "execution_count": null,
      "outputs": []
    },
    {
      "cell_type": "code",
      "metadata": {
        "id": "OFXFCpaZiIjH"
      },
      "source": [
        "# y_pred = Rfr.predict(X_test)"
      ],
      "execution_count": null,
      "outputs": []
    },
    {
      "cell_type": "code",
      "metadata": {
        "id": "Na44n_RPiGxy"
      },
      "source": [
        "# from sklearn import metrics\n",
        "# print('MAE:', metrics.mean_absolute_error(y_test, y_pred))\n",
        "# print('MSE:', metrics.mean_squared_error(y_test, y_pred))\n",
        "# print('RMSE:', np.sqrt(metrics.mean_squared_error(y_test, y_pred)))"
      ],
      "execution_count": null,
      "outputs": []
    },
    {
      "cell_type": "code",
      "metadata": {
        "id": "9maNlD__-L9u"
      },
      "source": [
        "# import xgboost as xgb"
      ],
      "execution_count": null,
      "outputs": []
    },
    {
      "cell_type": "code",
      "metadata": {
        "id": "tyORk5JH-L6l"
      },
      "source": [
        "# xg_model = xgb.XGBClassifier(random_state=1,\n",
        "                            #  learning_rate=0.01)"
      ],
      "execution_count": null,
      "outputs": []
    },
    {
      "cell_type": "code",
      "metadata": {
        "id": "nYGtRHyx-L39"
      },
      "source": [
        "#xg_model.fit(X_train,y_train)"
      ],
      "execution_count": null,
      "outputs": []
    },
    {
      "cell_type": "code",
      "metadata": {
        "id": "-N7RGJFr-L0R"
      },
      "source": [
        "from sklearn.preprocessing import LabelEncoder, MinMaxScaler\n",
        "from sklearn.model_selection import train_test_split, GridSearchCV, cross_val_score, RandomizedSearchCV\n",
        "from sklearn.linear_model import LinearRegression, ElasticNet, Lasso, Ridge, HuberRegressor, LogisticRegression, BayesianRidge\n",
        "from sklearn.tree import DecisionTreeRegressor, ExtraTreeRegressor\n",
        "from sklearn.ensemble import RandomForestRegressor, AdaBoostRegressor, GradientBoostingRegressor, VotingRegressor\n",
        "from sklearn.neighbors import KNeighborsRegressor\n",
        "from sklearn.svm import SVR\n",
        "from xgboost import XGBRegressor\n",
        "from sklearn.metrics import mean_absolute_error, mean_squared_error"
      ],
      "execution_count": null,
      "outputs": []
    },
    {
      "cell_type": "code",
      "metadata": {
        "id": "vaf3g-Rf-RJe"
      },
      "source": [
        "from sklearn.model_selection import cross_val_score, StratifiedKFold, KFold"
      ],
      "execution_count": null,
      "outputs": []
    },
    {
      "cell_type": "code",
      "metadata": {
        "id": "qF6IClxs-LxQ"
      },
      "source": [
        "models = [['LinearRegression : ', LinearRegression()],\n",
        "          ['Lasso : ', Lasso()],\n",
        "          ['Ridge : ', Ridge()],\n",
        "          ['KNeighborsRegressor : ', KNeighborsRegressor()],\n",
        "          ['DecisionTreeRegressor : ', DecisionTreeRegressor()],\n",
        "          ['RandomForestRegressor : ', RandomForestRegressor()],\n",
        "          ['AdaBoostRegressor : ', AdaBoostRegressor()],\n",
        "          ['GradientBoostingRegressor : ', GradientBoostingRegressor()],\n",
        "          ['ExtraTreeRegressor : ', ExtraTreeRegressor()],\n",
        "          ['HuberRegressor : ', HuberRegressor()],\n",
        "          ['XGBRegressor : ', XGBRegressor()],\n",
        "          ['BayesianRidge : ', BayesianRidge()],\n",
        "          ['SVR: ', SVR()]]"
      ],
      "execution_count": null,
      "outputs": []
    },
    {
      "cell_type": "code",
      "metadata": {
        "id": "Fs6veXF2-JV8"
      },
      "source": [
        "results = []\n",
        "names = []\n",
        "res = []\n",
        "for name, model in models:\n",
        "  kfold = StratifiedKFold(n_splits=10, random_state=0)\n",
        "  cv_results = cross_val_score(model, X_train, y_train, cv=kfold)\n",
        "  results.append(cv_results)\n",
        "  names.append(name)\n",
        "  res.append(cv_results.mean())\n",
        "  print('%s: %f (%f)' % (name, cv_results.mean(), cv_results.std()))\n",
        "\n",
        "\n"
      ],
      "execution_count": null,
      "outputs": []
    },
    {
      "cell_type": "code",
      "metadata": {
        "id": "ipORV73e-LuZ"
      },
      "source": [
        "# for name, model in models:\n",
        "#     model=model\n",
        "#     model.fit(X_train, y_train)\n",
        "#     predictions = model.predict(X_test)\n",
        "#     print(name, (np.sqrt(mean_squared_error(y_test, predictions))))"
      ],
      "execution_count": null,
      "outputs": []
    },
    {
      "cell_type": "code",
      "metadata": {
        "id": "p9Bwwa7a-Lqx"
      },
      "source": [
        "# algorithms = {\n",
        "#     'XGBRegressor' : {\n",
        "#         'model' : XGBRegressor(),\n",
        "#         'param' : {\n",
        "#             'learning_rate' : [0.5, 0.8, 0.1, 0.20, 0.25, 0.30],\n",
        "#             'max_depth' : [3, 5, 7, 9, 11, 13, 15],\n",
        "#             'gamma' : [0.1,0.2, 0.3, 0.4, 0.5],\n",
        "#             'min_child_weight' : [1, 3, 5, 7, 9],\n",
        "#             'colsample_bytree' : [0.5, 0.8, 0.1, 0.20, 0.25, 0.30]\n",
        "#         }\n",
        "#     },\n",
        "#     'RandomForestRegressor' : {\n",
        "#         'model' : RandomForestRegressor(),\n",
        "#         'param' : {\n",
        "#             'n_estimators' : [300, 500, 700, 1000, 2100],\n",
        "#             'max_depth' : [3, 5, 7, 9, 11, 13, 15],\n",
        "#             'max_features' : [\"auto\", \"sqrt\", \"log2\"],\n",
        "#             'min_samples_split' : [2, 4, 6, 8]\n",
        "#         }\n",
        "#     },\n",
        "#     'GradientBoostingRegressor' : {\n",
        "#         'model' : GradientBoostingRegressor(),\n",
        "#         'param' : {\n",
        "#             'learning_rate' : [0.5, 0.8, 0.1, 0.20, 0.25, 0.30],\n",
        "#             'n_estimators' : [300, 500, 700, 1000, 2100],\n",
        "#             'criterion' : ['friedman_mse', 'mse']\n",
        "#         }\n",
        "#     }\n",
        "# }"
      ],
      "execution_count": null,
      "outputs": []
    },
    {
      "cell_type": "code",
      "metadata": {
        "id": "fpBRPONXThvJ"
      },
      "source": [
        "# score = []\n",
        "\n",
        "# for name, mp in algorithms.items() :\n",
        "#     rs = RandomizedSearchCV(estimator = mp['model'], param_distributions = mp['param'], cv = 10, n_jobs=-1, verbose=3)\n",
        "#     rs.fit(X_train, y_train)\n",
        "#     score.append({\n",
        "#         'model': name,\n",
        "#         'score' : rs.best_score_,\n",
        "#         'params' : rs.best_params_\n",
        "#     })"
      ],
      "execution_count": null,
      "outputs": []
    },
    {
      "cell_type": "code",
      "metadata": {
        "id": "PuLeEuLaThoR"
      },
      "source": [
        ""
      ],
      "execution_count": null,
      "outputs": []
    },
    {
      "cell_type": "code",
      "metadata": {
        "id": "JQkw9Y9gThkE"
      },
      "source": [
        ""
      ],
      "execution_count": null,
      "outputs": []
    },
    {
      "cell_type": "code",
      "metadata": {
        "id": "_pMfmboWThcd"
      },
      "source": [
        ""
      ],
      "execution_count": null,
      "outputs": []
    },
    {
      "cell_type": "code",
      "metadata": {
        "id": "ynylQ6tHPgwf"
      },
      "source": [
        "test.head()"
      ],
      "execution_count": null,
      "outputs": []
    },
    {
      "cell_type": "code",
      "metadata": {
        "id": "tNMZpBaKWj1M"
      },
      "source": [
        "test.info()"
      ],
      "execution_count": null,
      "outputs": []
    },
    {
      "cell_type": "code",
      "metadata": {
        "id": "PljlMQUrXF6m"
      },
      "source": [
        "test['Date'] = pd.to_datetime(test['Date'])"
      ],
      "execution_count": null,
      "outputs": []
    },
    {
      "cell_type": "code",
      "metadata": {
        "id": "JmoWnze6XMkS"
      },
      "source": [
        ""
      ],
      "execution_count": null,
      "outputs": []
    },
    {
      "cell_type": "code",
      "metadata": {
        "id": "HbtxNzaaXMbY"
      },
      "source": [
        ""
      ],
      "execution_count": null,
      "outputs": []
    },
    {
      "cell_type": "code",
      "metadata": {
        "id": "88AH5msLPgnM"
      },
      "source": [
        "test.isnull().sum()"
      ],
      "execution_count": null,
      "outputs": []
    },
    {
      "cell_type": "code",
      "metadata": {
        "id": "lheoiBY0VSa4"
      },
      "source": [
        "test.nunique()"
      ],
      "execution_count": null,
      "outputs": []
    },
    {
      "cell_type": "code",
      "metadata": {
        "id": "hhepyozkVlA-"
      },
      "source": [
        "test.Store.value_counts()"
      ],
      "execution_count": null,
      "outputs": []
    },
    {
      "cell_type": "code",
      "metadata": {
        "id": "IAPe1xgoVszf"
      },
      "source": [
        "test['Open'].value_counts()"
      ],
      "execution_count": null,
      "outputs": []
    },
    {
      "cell_type": "code",
      "metadata": {
        "id": "Q2yIC_pWWJBe"
      },
      "source": [
        "test['Promo'].value_counts()"
      ],
      "execution_count": null,
      "outputs": []
    },
    {
      "cell_type": "code",
      "metadata": {
        "id": "n6A3gmmcWUXd"
      },
      "source": [
        "test['StateHoliday'].value_counts()"
      ],
      "execution_count": null,
      "outputs": []
    },
    {
      "cell_type": "code",
      "metadata": {
        "id": "Fg1qQiH-WaBP"
      },
      "source": [
        "test['SchoolHoliday'].value_counts()"
      ],
      "execution_count": null,
      "outputs": []
    },
    {
      "cell_type": "code",
      "metadata": {
        "id": "0OwjkDBOWhIf"
      },
      "source": [
        "test[\"Day\"] = pd.to_datetime(test.Date, format=\"%Y-%m-%d\").dt.day\n",
        "test[\"Month\"] = pd.to_datetime(test.Date, format=\"%Y-%m-%d\").dt.month\n",
        "test[\"Year\"] = pd.to_datetime(test.Date, format=\"%Y-%m-%d\").dt.year"
      ],
      "execution_count": null,
      "outputs": []
    },
    {
      "cell_type": "code",
      "metadata": {
        "id": "LJzVgwQTXdhI"
      },
      "source": [
        "test.drop([\"Date\"], axis = 1, inplace = True)"
      ],
      "execution_count": null,
      "outputs": []
    },
    {
      "cell_type": "code",
      "metadata": {
        "id": "cTWEv0vRXdWx"
      },
      "source": [
        "test['StoreType'].value_counts()"
      ],
      "execution_count": null,
      "outputs": []
    },
    {
      "cell_type": "code",
      "metadata": {
        "id": "MevYYOwEX5-1"
      },
      "source": [
        "test['Assortment'].value_counts()"
      ],
      "execution_count": null,
      "outputs": []
    },
    {
      "cell_type": "code",
      "metadata": {
        "id": "NY7xc5t3X51u"
      },
      "source": [
        "test['Promo2'].value_counts()"
      ],
      "execution_count": null,
      "outputs": []
    },
    {
      "cell_type": "code",
      "metadata": {
        "id": "eJlm6aaHX5vv"
      },
      "source": [
        "test.head()"
      ],
      "execution_count": null,
      "outputs": []
    },
    {
      "cell_type": "code",
      "metadata": {
        "id": "ybeipeoPYi5F"
      },
      "source": [
        "test = pd.get_dummies(data = test,columns=['StateHoliday','StoreType','Assortment'],drop_first=True)"
      ],
      "execution_count": null,
      "outputs": []
    },
    {
      "cell_type": "code",
      "metadata": {
        "id": "GFQdy437Y_FE"
      },
      "source": [
        "test.head()"
      ],
      "execution_count": null,
      "outputs": []
    },
    {
      "cell_type": "code",
      "metadata": {
        "id": "OU90NzENZdFu"
      },
      "source": [
        "X.head()"
      ],
      "execution_count": null,
      "outputs": []
    },
    {
      "cell_type": "code",
      "metadata": {
        "id": "jbECen_kg5vt"
      },
      "source": [
        "# test[\"Sales\"] = predictions"
      ],
      "execution_count": null,
      "outputs": []
    },
    {
      "cell_type": "code",
      "metadata": {
        "id": "5A95hGOvg5ri"
      },
      "source": [
        "# test.head()"
      ],
      "execution_count": null,
      "outputs": []
    },
    {
      "cell_type": "code",
      "metadata": {
        "id": "xu29oQSCjtQZ"
      },
      "source": [
        "# output = test['Sales']\n",
        "# output"
      ],
      "execution_count": null,
      "outputs": []
    },
    {
      "cell_type": "code",
      "metadata": {
        "id": "xz8h5N35kD1X"
      },
      "source": [
        "#output.to_csv('Output.csv')"
      ],
      "execution_count": null,
      "outputs": []
    },
    {
      "cell_type": "code",
      "metadata": {
        "id": "6bR5t8We4CKs"
      },
      "source": [
        "from sklearn.linear_model import SGDRegressor"
      ],
      "execution_count": null,
      "outputs": []
    },
    {
      "cell_type": "code",
      "metadata": {
        "id": "Sw4siwO94_by"
      },
      "source": [
        "sgdr = SGDRegressor(learning_rate='adaptive')"
      ],
      "execution_count": null,
      "outputs": []
    },
    {
      "cell_type": "code",
      "metadata": {
        "id": "wzdac0iC5ueP"
      },
      "source": [
        "sgdr.fit(X_train,y_train)"
      ],
      "execution_count": null,
      "outputs": []
    },
    {
      "cell_type": "code",
      "metadata": {
        "id": "Z2_0TWFA5i2A"
      },
      "source": [
        "sgdr.score(X_train,y_train)"
      ],
      "execution_count": null,
      "outputs": []
    },
    {
      "cell_type": "code",
      "metadata": {
        "id": "5iSahSMa7ICC"
      },
      "source": [
        "sgdr_predictions = sgdr.predict(X_test)"
      ],
      "execution_count": null,
      "outputs": []
    },
    {
      "cell_type": "code",
      "metadata": {
        "id": "2v5yAngG5ivg"
      },
      "source": [
        "from sklearn import metrics\n",
        "print('MAE:', metrics.mean_absolute_error(y_test, sgdr_predictions))\n",
        "print('MSE:', metrics.mean_squared_error(y_test, sgdr_predictions))\n",
        "print('RMSE:', np.sqrt(metrics.mean_squared_error(y_test, sgdr_predictions)))"
      ],
      "execution_count": null,
      "outputs": []
    },
    {
      "cell_type": "code",
      "metadata": {
        "id": "7sOB9vto5irt"
      },
      "source": [
        "import xgboost as xgb"
      ],
      "execution_count": null,
      "outputs": []
    },
    {
      "cell_type": "code",
      "metadata": {
        "id": "G7-GiDT-78H1"
      },
      "source": [
        "xg_model = xgb.XGBRFRegressor(random_state=1,learning_rate=0.01)"
      ],
      "execution_count": null,
      "outputs": []
    },
    {
      "cell_type": "code",
      "metadata": {
        "id": "ptJ64oXo8LIP"
      },
      "source": [
        "xg_model.fit(X_train,y_train)"
      ],
      "execution_count": null,
      "outputs": []
    },
    {
      "cell_type": "code",
      "metadata": {
        "id": "a2Fq6DWY8R9s"
      },
      "source": [
        "xg_model.score(X_train,y_train)"
      ],
      "execution_count": null,
      "outputs": []
    },
    {
      "cell_type": "code",
      "metadata": {
        "id": "GSYfWCAY8R3e"
      },
      "source": [
        "xgb_predictions = xg_model.predict(X_test)"
      ],
      "execution_count": null,
      "outputs": []
    },
    {
      "cell_type": "code",
      "metadata": {
        "id": "MXUX4-Os8pw7"
      },
      "source": [
        "from sklearn import metrics\n",
        "print('MAE:', metrics.mean_absolute_error(y_test, xgb_predictions))\n",
        "print('MSE:', metrics.mean_squared_error(y_test, xgb_predictions))\n",
        "print('RMSE:', np.sqrt(metrics.mean_squared_error(y_test, xgb_predictions)))"
      ],
      "execution_count": null,
      "outputs": []
    },
    {
      "cell_type": "code",
      "metadata": {
        "id": "rl1f34XP8ps1"
      },
      "source": [
        ""
      ],
      "execution_count": null,
      "outputs": []
    }
  ]
}